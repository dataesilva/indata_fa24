{
 "cells": [
  {
   "cell_type": "code",
   "execution_count": 1,
   "id": "7f595a17-e604-48db-a8c0-699ba209fe1b",
   "metadata": {},
   "outputs": [],
   "source": [
    "import pandas as pd\n",
    "from matplotlib import pyplot as plt"
   ]
  },
  {
   "cell_type": "code",
   "execution_count": 2,
   "id": "5572cb1d-0df4-42ee-85b4-3e4dcd76034e",
   "metadata": {},
   "outputs": [
    {
     "data": {
      "image/png": "[encoded data removed]",
      "text/plain": [
       "<Figure size 800x100 with 8 Axes>"
      ]
     },
     "metadata": {},
     "output_type": "display_data"
    }
   ],
   "source": [
    "fig1, ax1 = plt.subplots(2, 4, figsize = (8, 1))\n",
    "ax1[0,1].set_title('Middle Top')\n",
    "ax1[1, 1].set_title('Middle Bottom')\n",
    "ax1[1, 3].set_title('Right Bottom')\n",
    "\n",
    "\n",
    "plt.show()"
   ]
  },
  {
   "cell_type": "code",
   "execution_count": 3,
   "id": "fd840ce9-a827-4450-a711-0b53bf99b135",
   "metadata": {},
   "outputs": [
    {
     "data": {
      "text/html": [
       "<div>\n",
       "<style scoped>\n",
       "    .dataframe tbody tr th:only-of-type {\n",
       "        vertical-align: middle;\n",
       "    }\n",
       "\n",
       "    .dataframe tbody tr th {\n",
       "        vertical-align: top;\n",
       "    }\n",
       "\n",
       "    .dataframe thead th {\n",
       "        text-align: right;\n",
       "    }\n",
       "</style>\n",
       "<table border=\"1\" class=\"dataframe\">\n",
       "  <thead>\n",
       "    <tr style=\"text-align: right;\">\n",
       "      <th></th>\n",
       "      <th>TripID</th>\n",
       "      <th>Vehicle</th>\n",
       "      <th>Date</th>\n",
       "      <th>CommuteTime</th>\n",
       "      <th>Destination</th>\n",
       "      <th>Weather</th>\n",
       "    </tr>\n",
       "  </thead>\n",
       "  <tbody>\n",
       "    <tr>\n",
       "      <th>0</th>\n",
       "      <td>0</td>\n",
       "      <td>Street Triple</td>\n",
       "      <td>11/8/2022</td>\n",
       "      <td>18.5</td>\n",
       "      <td>Franklin</td>\n",
       "      <td>rain</td>\n",
       "    </tr>\n",
       "    <tr>\n",
       "      <th>1</th>\n",
       "      <td>1</td>\n",
       "      <td>Street Triple</td>\n",
       "      <td>11/9/2022</td>\n",
       "      <td>19.0</td>\n",
       "      <td>Taylor</td>\n",
       "      <td>sun</td>\n",
       "    </tr>\n",
       "    <tr>\n",
       "      <th>2</th>\n",
       "      <td>2</td>\n",
       "      <td>Street Triple</td>\n",
       "      <td>11/10/2022</td>\n",
       "      <td>17.0</td>\n",
       "      <td>Franklin</td>\n",
       "      <td>sun</td>\n",
       "    </tr>\n",
       "    <tr>\n",
       "      <th>3</th>\n",
       "      <td>3</td>\n",
       "      <td>Passat</td>\n",
       "      <td>11/15/2022</td>\n",
       "      <td>22.0</td>\n",
       "      <td>Taylor</td>\n",
       "      <td>snow</td>\n",
       "    </tr>\n",
       "    <tr>\n",
       "      <th>4</th>\n",
       "      <td>4</td>\n",
       "      <td>Passat</td>\n",
       "      <td>11/16/2022</td>\n",
       "      <td>19.0</td>\n",
       "      <td>Taylor</td>\n",
       "      <td>snow</td>\n",
       "    </tr>\n",
       "  </tbody>\n",
       "</table>\n",
       "</div>"
      ],
      "text/plain": [
       "   TripID        Vehicle        Date  CommuteTime Destination Weather\n",
       "0       0  Street Triple   11/8/2022         18.5    Franklin    rain\n",
       "1       1  Street Triple   11/9/2022         19.0      Taylor     sun\n",
       "2       2  Street Triple  11/10/2022         17.0    Franklin     sun\n",
       "3       3         Passat  11/15/2022         22.0      Taylor    snow\n",
       "4       4         Passat  11/16/2022         19.0      Taylor    snow"
      ]
     },
     "execution_count": 3,
     "metadata": {},
     "output_type": "execute_result"
    }
   ],
   "source": [
    "comm = pd.read_csv('commute.csv')\n",
    "comm.head()"
   ]
  },
  {
   "cell_type": "code",
   "execution_count": 4,
   "id": "60923a18-883c-42d3-8496-61964fe2fd39",
   "metadata": {},
   "outputs": [
    {
     "data": {
      "text/html": [
       "<div>\n",
       "<style scoped>\n",
       "    .dataframe tbody tr th:only-of-type {\n",
       "        vertical-align: middle;\n",
       "    }\n",
       "\n",
       "    .dataframe tbody tr th {\n",
       "        vertical-align: top;\n",
       "    }\n",
       "\n",
       "    .dataframe thead th {\n",
       "        text-align: right;\n",
       "    }\n",
       "</style>\n",
       "<table border=\"1\" class=\"dataframe\">\n",
       "  <thead>\n",
       "    <tr style=\"text-align: right;\">\n",
       "      <th></th>\n",
       "      <th>TripID</th>\n",
       "      <th>CommuteTime</th>\n",
       "    </tr>\n",
       "  </thead>\n",
       "  <tbody>\n",
       "    <tr>\n",
       "      <th>count</th>\n",
       "      <td>8.00000</td>\n",
       "      <td>8.000000</td>\n",
       "    </tr>\n",
       "    <tr>\n",
       "      <th>mean</th>\n",
       "      <td>3.50000</td>\n",
       "      <td>19.437500</td>\n",
       "    </tr>\n",
       "    <tr>\n",
       "      <th>std</th>\n",
       "      <td>2.44949</td>\n",
       "      <td>1.545443</td>\n",
       "    </tr>\n",
       "    <tr>\n",
       "      <th>min</th>\n",
       "      <td>0.00000</td>\n",
       "      <td>17.000000</td>\n",
       "    </tr>\n",
       "    <tr>\n",
       "      <th>25%</th>\n",
       "      <td>1.75000</td>\n",
       "      <td>18.875000</td>\n",
       "    </tr>\n",
       "    <tr>\n",
       "      <th>50%</th>\n",
       "      <td>3.50000</td>\n",
       "      <td>19.000000</td>\n",
       "    </tr>\n",
       "    <tr>\n",
       "      <th>75%</th>\n",
       "      <td>5.25000</td>\n",
       "      <td>20.250000</td>\n",
       "    </tr>\n",
       "    <tr>\n",
       "      <th>max</th>\n",
       "      <td>7.00000</td>\n",
       "      <td>22.000000</td>\n",
       "    </tr>\n",
       "  </tbody>\n",
       "</table>\n",
       "</div>"
      ],
      "text/plain": [
       "        TripID  CommuteTime\n",
       "count  8.00000     8.000000\n",
       "mean   3.50000    19.437500\n",
       "std    2.44949     1.545443\n",
       "min    0.00000    17.000000\n",
       "25%    1.75000    18.875000\n",
       "50%    3.50000    19.000000\n",
       "75%    5.25000    20.250000\n",
       "max    7.00000    22.000000"
      ]
     },
     "execution_count": 4,
     "metadata": {},
     "output_type": "execute_result"
    }
   ],
   "source": [
    "comm.describe()"
   ]
  },
  {
   "cell_type": "code",
   "execution_count": 14,
   "id": "30bd52ff-c173-467e-92f3-e9254b4d6984",
   "metadata": {},
   "outputs": [
    {
     "data": {
      "text/plain": [
       "Weather  Destination\n",
       "rain     Franklin       18.5\n",
       "         Taylor         21.0\n",
       "snow     Taylor         20.5\n",
       "sun      Franklin       18.0\n",
       "         Library        20.0\n",
       "         Taylor         19.0\n",
       "Name: mean, dtype: float64"
      ]
     },
     "execution_count": 14,
     "metadata": {},
     "output_type": "execute_result"
    }
   ],
   "source": [
    "comm.groupby(['Weather', 'Destination'])['CommuteTime'].describe()['mean']"
   ]
  },
  {
   "cell_type": "code",
   "execution_count": 17,
   "id": "618ea74d-cb50-4a9b-9a5b-1600bdbdbf7c",
   "metadata": {},
   "outputs": [
    {
     "data": {
      "text/html": [
       "<div>\n",
       "<style scoped>\n",
       "    .dataframe tbody tr th:only-of-type {\n",
       "        vertical-align: middle;\n",
       "    }\n",
       "\n",
       "    .dataframe tbody tr th {\n",
       "        vertical-align: top;\n",
       "    }\n",
       "\n",
       "    .dataframe thead th {\n",
       "        text-align: right;\n",
       "    }\n",
       "</style>\n",
       "<table border=\"1\" class=\"dataframe\">\n",
       "  <thead>\n",
       "    <tr style=\"text-align: right;\">\n",
       "      <th></th>\n",
       "      <th></th>\n",
       "      <th></th>\n",
       "      <th>mean</th>\n",
       "      <th>std</th>\n",
       "    </tr>\n",
       "    <tr>\n",
       "      <th>Weather</th>\n",
       "      <th>Destination</th>\n",
       "      <th>Vehicle</th>\n",
       "      <th></th>\n",
       "      <th></th>\n",
       "    </tr>\n",
       "  </thead>\n",
       "  <tbody>\n",
       "    <tr>\n",
       "      <th rowspan=\"2\" valign=\"top\">rain</th>\n",
       "      <th>Franklin</th>\n",
       "      <th>Street Triple</th>\n",
       "      <td>18.5</td>\n",
       "      <td>NaN</td>\n",
       "    </tr>\n",
       "    <tr>\n",
       "      <th>Taylor</th>\n",
       "      <th>Passat</th>\n",
       "      <td>21.0</td>\n",
       "      <td>NaN</td>\n",
       "    </tr>\n",
       "    <tr>\n",
       "      <th>snow</th>\n",
       "      <th>Taylor</th>\n",
       "      <th>Passat</th>\n",
       "      <td>20.5</td>\n",
       "      <td>2.12132</td>\n",
       "    </tr>\n",
       "    <tr>\n",
       "      <th rowspan=\"4\" valign=\"top\">sun</th>\n",
       "      <th rowspan=\"2\" valign=\"top\">Franklin</th>\n",
       "      <th>Passat</th>\n",
       "      <td>19.0</td>\n",
       "      <td>NaN</td>\n",
       "    </tr>\n",
       "    <tr>\n",
       "      <th>Street Triple</th>\n",
       "      <td>17.0</td>\n",
       "      <td>NaN</td>\n",
       "    </tr>\n",
       "    <tr>\n",
       "      <th>Library</th>\n",
       "      <th>Street Triple</th>\n",
       "      <td>20.0</td>\n",
       "      <td>NaN</td>\n",
       "    </tr>\n",
       "    <tr>\n",
       "      <th>Taylor</th>\n",
       "      <th>Street Triple</th>\n",
       "      <td>19.0</td>\n",
       "      <td>NaN</td>\n",
       "    </tr>\n",
       "  </tbody>\n",
       "</table>\n",
       "</div>"
      ],
      "text/plain": [
       "                                   mean      std\n",
       "Weather Destination Vehicle                     \n",
       "rain    Franklin    Street Triple  18.5      NaN\n",
       "        Taylor      Passat         21.0      NaN\n",
       "snow    Taylor      Passat         20.5  2.12132\n",
       "sun     Franklin    Passat         19.0      NaN\n",
       "                    Street Triple  17.0      NaN\n",
       "        Library     Street Triple  20.0      NaN\n",
       "        Taylor      Street Triple  19.0      NaN"
      ]
     },
     "execution_count": 17,
     "metadata": {},
     "output_type": "execute_result"
    }
   ],
   "source": [
    "comm.groupby(['Weather', 'Destination', 'Vehicle'])['CommuteTime'].describe()[['mean', 'std']]"
   ]
  },
  {
   "cell_type": "code",
   "execution_count": 22,
   "id": "7b2c3c8c-4061-44c3-a439-c5c81f77d9ff",
   "metadata": {},
   "outputs": [
    {
     "data": {
      "text/html": [
       "<div>\n",
       "<style scoped>\n",
       "    .dataframe tbody tr th:only-of-type {\n",
       "        vertical-align: middle;\n",
       "    }\n",
       "\n",
       "    .dataframe tbody tr th {\n",
       "        vertical-align: top;\n",
       "    }\n",
       "\n",
       "    .dataframe thead th {\n",
       "        text-align: right;\n",
       "    }\n",
       "</style>\n",
       "<table border=\"1\" class=\"dataframe\">\n",
       "  <thead>\n",
       "    <tr style=\"text-align: right;\">\n",
       "      <th></th>\n",
       "      <th>TripID</th>\n",
       "      <th>Vehicle</th>\n",
       "      <th>Date</th>\n",
       "      <th>CommuteTime</th>\n",
       "      <th>Destination</th>\n",
       "      <th>Weather</th>\n",
       "    </tr>\n",
       "  </thead>\n",
       "  <tbody>\n",
       "    <tr>\n",
       "      <th>0</th>\n",
       "      <td>0</td>\n",
       "      <td>Street Triple</td>\n",
       "      <td>11/8/2022</td>\n",
       "      <td>18.5</td>\n",
       "      <td>Franklin</td>\n",
       "      <td>rain</td>\n",
       "    </tr>\n",
       "    <tr>\n",
       "      <th>1</th>\n",
       "      <td>1</td>\n",
       "      <td>Street Triple</td>\n",
       "      <td>11/9/2022</td>\n",
       "      <td>19.0</td>\n",
       "      <td>Taylor</td>\n",
       "      <td>sun</td>\n",
       "    </tr>\n",
       "    <tr>\n",
       "      <th>2</th>\n",
       "      <td>2</td>\n",
       "      <td>Street Triple</td>\n",
       "      <td>11/10/2022</td>\n",
       "      <td>17.0</td>\n",
       "      <td>Franklin</td>\n",
       "      <td>sun</td>\n",
       "    </tr>\n",
       "    <tr>\n",
       "      <th>7</th>\n",
       "      <td>7</td>\n",
       "      <td>Street Triple</td>\n",
       "      <td>12/3/2022</td>\n",
       "      <td>20.0</td>\n",
       "      <td>Library</td>\n",
       "      <td>sun</td>\n",
       "    </tr>\n",
       "  </tbody>\n",
       "</table>\n",
       "</div>"
      ],
      "text/plain": [
       "   TripID        Vehicle        Date  CommuteTime Destination Weather\n",
       "0       0  Street Triple   11/8/2022         18.5    Franklin    rain\n",
       "1       1  Street Triple   11/9/2022         19.0      Taylor     sun\n",
       "2       2  Street Triple  11/10/2022         17.0    Franklin     sun\n",
       "7       7  Street Triple   12/3/2022         20.0     Library     sun"
      ]
     },
     "execution_count": 22,
     "metadata": {},
     "output_type": "execute_result"
    }
   ],
   "source": [
    "comm[comm['Vehicle'] == 'Street Triple']"
   ]
  },
  {
   "cell_type": "code",
   "execution_count": 25,
   "id": "fb2b6792-a640-44ae-9f10-f49e3f6766d7",
   "metadata": {},
   "outputs": [
    {
     "data": {
      "image/png": "[encoded data removed]",
      "text/plain": [
       "<Figure size 640x480 with 1 Axes>"
      ]
     },
     "metadata": {},
     "output_type": "display_data"
    }
   ],
   "source": [
    "passat = comm[comm['Vehicle'] == 'Passat']\n",
    "st = comm[comm['Vehicle'] == 'Street Triple']\n",
    "\n",
    "fig2, ax2 = plt.subplots()\n",
    "ax2.scatter(x = passat['TripID'], y = passat['CommuteTime'], marker = '<')\n",
    "ax2.scatter(x = st['TripID'], y = st['CommuteTime'], marker = 'o')\n",
    "\n",
    "plt.show()"
   ]
  },
  {
   "cell_type": "code",
   "execution_count": 28,
   "id": "17494a29-125a-4589-803c-3f735a8c7902",
   "metadata": {},
   "outputs": [],
   "source": [
    "grouped_df = comm.groupby(['Vehicle', 'Destination']).describe()"
   ]
  },
  {
   "cell_type": "code",
   "execution_count": 33,
   "id": "2fb0cc21-10c1-4aa7-9a23-e1e5b39dd99a",
   "metadata": {},
   "outputs": [
    {
     "data": {
      "text/plain": [
       "MultiIndex([(       'Passat', 'Franklin'),\n",
       "            (       'Passat',   'Taylor'),\n",
       "            ('Street Triple', 'Franklin'),\n",
       "            ('Street Triple',  'Library'),\n",
       "            ('Street Triple',   'Taylor')],\n",
       "           names=['Vehicle', 'Destination'])"
      ]
     },
     "execution_count": 33,
     "metadata": {},
     "output_type": "execute_result"
    }
   ],
   "source": [
    "grouped_df.index"
   ]
  },
  {
   "cell_type": "code",
   "execution_count": 37,
   "id": "d1d1df5a-1e98-4d4c-a525-6ed51386671d",
   "metadata": {},
   "outputs": [
    {
     "data": {
      "text/html": [
       "<div>\n",
       "<style scoped>\n",
       "    .dataframe tbody tr th:only-of-type {\n",
       "        vertical-align: middle;\n",
       "    }\n",
       "\n",
       "    .dataframe tbody tr th {\n",
       "        vertical-align: top;\n",
       "    }\n",
       "\n",
       "    .dataframe thead tr th {\n",
       "        text-align: left;\n",
       "    }\n",
       "\n",
       "    .dataframe thead tr:last-of-type th {\n",
       "        text-align: right;\n",
       "    }\n",
       "</style>\n",
       "<table border=\"1\" class=\"dataframe\">\n",
       "  <thead>\n",
       "    <tr>\n",
       "      <th></th>\n",
       "      <th colspan=\"8\" halign=\"left\">TripID</th>\n",
       "      <th colspan=\"8\" halign=\"left\">CommuteTime</th>\n",
       "    </tr>\n",
       "    <tr>\n",
       "      <th></th>\n",
       "      <th>count</th>\n",
       "      <th>mean</th>\n",
       "      <th>std</th>\n",
       "      <th>min</th>\n",
       "      <th>25%</th>\n",
       "      <th>50%</th>\n",
       "      <th>75%</th>\n",
       "      <th>max</th>\n",
       "      <th>count</th>\n",
       "      <th>mean</th>\n",
       "      <th>std</th>\n",
       "      <th>min</th>\n",
       "      <th>25%</th>\n",
       "      <th>50%</th>\n",
       "      <th>75%</th>\n",
       "      <th>max</th>\n",
       "    </tr>\n",
       "    <tr>\n",
       "      <th>Destination</th>\n",
       "      <th></th>\n",
       "      <th></th>\n",
       "      <th></th>\n",
       "      <th></th>\n",
       "      <th></th>\n",
       "      <th></th>\n",
       "      <th></th>\n",
       "      <th></th>\n",
       "      <th></th>\n",
       "      <th></th>\n",
       "      <th></th>\n",
       "      <th></th>\n",
       "      <th></th>\n",
       "      <th></th>\n",
       "      <th></th>\n",
       "      <th></th>\n",
       "    </tr>\n",
       "  </thead>\n",
       "  <tbody>\n",
       "    <tr>\n",
       "      <th>Franklin</th>\n",
       "      <td>1.0</td>\n",
       "      <td>6.0</td>\n",
       "      <td>NaN</td>\n",
       "      <td>6.0</td>\n",
       "      <td>6.0</td>\n",
       "      <td>6.0</td>\n",
       "      <td>6.0</td>\n",
       "      <td>6.0</td>\n",
       "      <td>1.0</td>\n",
       "      <td>19.000000</td>\n",
       "      <td>NaN</td>\n",
       "      <td>19.0</td>\n",
       "      <td>19.0</td>\n",
       "      <td>19.0</td>\n",
       "      <td>19.0</td>\n",
       "      <td>19.0</td>\n",
       "    </tr>\n",
       "    <tr>\n",
       "      <th>Taylor</th>\n",
       "      <td>3.0</td>\n",
       "      <td>4.0</td>\n",
       "      <td>1.0</td>\n",
       "      <td>3.0</td>\n",
       "      <td>3.5</td>\n",
       "      <td>4.0</td>\n",
       "      <td>4.5</td>\n",
       "      <td>5.0</td>\n",
       "      <td>3.0</td>\n",
       "      <td>20.666667</td>\n",
       "      <td>1.527525</td>\n",
       "      <td>19.0</td>\n",
       "      <td>20.0</td>\n",
       "      <td>21.0</td>\n",
       "      <td>21.5</td>\n",
       "      <td>22.0</td>\n",
       "    </tr>\n",
       "  </tbody>\n",
       "</table>\n",
       "</div>"
      ],
      "text/plain": [
       "            TripID                                    CommuteTime             \\\n",
       "             count mean  std  min  25%  50%  75%  max       count       mean   \n",
       "Destination                                                                    \n",
       "Franklin       1.0  6.0  NaN  6.0  6.0  6.0  6.0  6.0         1.0  19.000000   \n",
       "Taylor         3.0  4.0  1.0  3.0  3.5  4.0  4.5  5.0         3.0  20.666667   \n",
       "\n",
       "                                                     \n",
       "                  std   min   25%   50%   75%   max  \n",
       "Destination                                          \n",
       "Franklin          NaN  19.0  19.0  19.0  19.0  19.0  \n",
       "Taylor       1.527525  19.0  20.0  21.0  21.5  22.0  "
      ]
     },
     "execution_count": 37,
     "metadata": {},
     "output_type": "execute_result"
    }
   ],
   "source": [
    "grouped_df.loc['Passat']"
   ]
  },
  {
   "cell_type": "code",
   "execution_count": 41,
   "id": "918b7a70-d33b-44a6-962c-5b8fbbdfe59f",
   "metadata": {},
   "outputs": [
    {
     "data": {
      "text/plain": [
       "Index(['rain', 'snow', 'sun'], dtype='object', name='Weather')"
      ]
     },
     "execution_count": 41,
     "metadata": {},
     "output_type": "execute_result"
    }
   ],
   "source": [
    "weather_freq = comm.groupby('Weather')['TripID'].count()\n",
    "weather_freq.index"
   ]
  },
  {
   "cell_type": "code",
   "execution_count": 42,
   "id": "896618cb-578e-485f-8c31-df660396df82",
   "metadata": {},
   "outputs": [
    {
     "data": {
      "image/png": "[encoded data removed]",
      "text/plain": [
       "<Figure size 640x480 with 1 Axes>"
      ]
     },
     "metadata": {},
     "output_type": "display_data"
    }
   ],
   "source": [
    "fig3, ax3 = plt.subplots()\n",
    "ax3.bar(x = weather_freq.index, height = weather_freq)\n",
    "\n",
    "plt.show()"
   ]
  },
  {
   "cell_type": "code",
   "execution_count": null,
   "id": "3459265a-ad09-4079-80b9-94e3c43f2943",
   "metadata": {},
   "outputs": [],
   "source": []
  },
  {
   "cell_type": "code",
   "execution_count": null,
   "id": "527b6041-4167-41b1-b554-daac5f1fb8eb",
   "metadata": {},
   "outputs": [],
   "source": []
  },
  {
   "cell_type": "code",
   "execution_count": null,
   "id": "fcba3c19-d9fd-4c26-a0ad-9911f76455f3",
   "metadata": {},
   "outputs": [],
   "source": []
  },
  {
   "cell_type": "code",
   "execution_count": null,
   "id": "c294a534-a3c5-4532-8963-8cc6c7a8f0c1",
   "metadata": {},
   "outputs": [],
   "source": []
  },
  {
   "cell_type": "code",
   "execution_count": null,
   "id": "19ad9ab9-1cfa-43cf-8800-c6237c2787e0",
   "metadata": {},
   "outputs": [],
   "source": []
  },
  {
   "cell_type": "code",
   "execution_count": null,
   "id": "e3b6ebeb-c3c1-480f-9445-772b2a76529e",
   "metadata": {},
   "outputs": [],
   "source": []
  },
  {
   "cell_type": "code",
   "execution_count": null,
   "id": "9e387ec6-3a3f-4e0c-964e-f8120ed2b69e",
   "metadata": {},
   "outputs": [],
   "source": []
  },
  {
   "cell_type": "code",
   "execution_count": null,
   "id": "a913920e-aa27-4edd-afce-7795c7e3020a",
   "metadata": {},
   "outputs": [],
   "source": []
  },
  {
   "cell_type": "code",
   "execution_count": 38,
   "id": "0d2f6c9b-3186-4d34-b33e-16e32b0460cb",
   "metadata": {},
   "outputs": [
    {
     "data": {
      "image/png": "[encoded data removed]",
      "text/plain": [
       "<Figure size 640x480 with 1 Axes>"
      ]
     },
     "metadata": {},
     "output_type": "display_data"
    }
   ],
   "source": [
    "weather_freq = comm.groupby('Weather')['TripID'].count()\n",
    "weather_freq.index\n",
    "\n",
    "fig6, ax6 = plt.subplots()\n",
    "ax6.bar(x = weather_freq.index, height = weather_freq)\n",
    "# fig6.title('Title')\n",
    "plt.show()"
   ]
  },
  {
   "cell_type": "code",
   "execution_count": null,
   "id": "c421f93d-c601-4485-a6b2-4d516c31b3c5",
   "metadata": {},
   "outputs": [],
   "source": []
  },
  {
   "cell_type": "code",
   "execution_count": null,
   "id": "354088f8-f31a-421a-b0ee-a955eadb6c68",
   "metadata": {},
   "outputs": [],
   "source": []
  },
  {
   "cell_type": "code",
   "execution_count": null,
   "id": "a0d58a47-cfb5-46e8-aca1-1d845a331536",
   "metadata": {},
   "outputs": [],
   "source": []
  }
 ],
 "metadata": {
  "kernelspec": {
   "display_name": "Python 3 (ipykernel)",
   "language": "python",
   "name": "python3"
  },
  "language_info": {
   "codemirror_mode": {
    "name": "ipython",
    "version": 3
   },
   "file_extension": ".py",
   "mimetype": "text/x-python",
   "name": "python",
   "nbconvert_exporter": "python",
   "pygments_lexer": "ipython3",
   "version": "3.12.4"
  }
 },
 "nbformat": 4,
 "nbformat_minor": 5
}
