{
 "cells": [
  {
   "cell_type": "code",
   "execution_count": 1,
   "id": "01eb8ae8-b8b4-4f08-9688-3e7f93e33e85",
   "metadata": {},
   "outputs": [],
   "source": [
    "import pandas as pd\n",
    "import plotly.express as px\n",
    "import dash\n",
    "from dash import html, dcc, Input, Output"
   ]
  },
  {
   "cell_type": "markdown",
   "id": "621cfc63-5f11-4b03-915e-5fef766110ea",
   "metadata": {},
   "source": [
    "https://dash.plotly.com/dash-core-components\n",
    "\n",
    "https://dash.plotly.com/layout"
   ]
  },
  {
   "cell_type": "code",
   "execution_count": 2,
   "id": "667ba267-5fae-40a9-be51-1863e8a7d8ca",
   "metadata": {},
   "outputs": [
    {
     "data": {
      "text/plain": [
       "Index(['pew_religimp', 'pew_churatd', 'sex', 'educ', 'nonwhite', 'age',\n",
       "       'faminc_new', 'pid3', 'ideo5', 'QueerPhobia', 'ImmiPhobia',\n",
       "       'InterGBiasParty', 'InterGBiasCand', 'InterGBiasSup', 'LibMediaUse',\n",
       "       'ConMediaUse', 'Real_Threat', 'Symb_Threat', 'Evaluation', 'teamweight',\n",
       "       'caseid'],\n",
       "      dtype='object')"
      ]
     },
     "execution_count": 2,
     "metadata": {},
     "output_type": "execute_result"
    }
   ],
   "source": [
    "ces = pd.read_csv('cces_example_data.csv')\n",
    "ces.columns"
   ]
  },
  {
   "cell_type": "code",
   "execution_count": 3,
   "id": "e7d611d1-2511-4e95-b68b-bf722ab92a2e",
   "metadata": {},
   "outputs": [
    {
     "data": {
      "text/plain": [
       "Evaluation\n",
       "0    365\n",
       "1     48\n",
       "2    202\n",
       "3     44\n",
       "Name: caseid, dtype: int64"
      ]
     },
     "execution_count": 3,
     "metadata": {},
     "output_type": "execute_result"
    }
   ],
   "source": [
    "ces_g = ces.groupby('Evaluation')['caseid'].count()\n",
    "ces_g"
   ]
  },
  {
   "cell_type": "code",
   "execution_count": 4,
   "id": "ab3f1afa-6719-41fd-bbfa-f7f9128874f4",
   "metadata": {},
   "outputs": [
    {
     "data": {
      "text/plain": [
       "['0', '1', '2', '3']"
      ]
     },
     "execution_count": 4,
     "metadata": {},
     "output_type": "execute_result"
    }
   ],
   "source": [
    "[str(i) for i in ces_g.index]"
   ]
  },
  {
   "cell_type": "code",
   "execution_count": 5,
   "id": "2cce9797-8e09-4c21-ab29-1b1152d63ddf",
   "metadata": {},
   "outputs": [
    {
     "data": {
      "text/html": [
       "\n",
       "        <iframe\n",
       "            width=\"100%\"\n",
       "            height=\"650\"\n",
       "            src=\"http://127.0.0.1:8050/\"\n",
       "            frameborder=\"0\"\n",
       "            allowfullscreen\n",
       "            \n",
       "        ></iframe>\n",
       "        "
      ],
      "text/plain": [
       "<IPython.lib.display.IFrame at 0x2430dc91af0>"
      ]
     },
     "metadata": {},
     "output_type": "display_data"
    }
   ],
   "source": [
    "app1 = dash.Dash(__name__)\n",
    "\n",
    "fig1 = px.histogram(ces, x = 'Symb_Threat')\n",
    "\n",
    "ces_g = ces.groupby('Evaluation')['caseid'].count()\n",
    "fig2 = px.bar(x = ces_g, y = [str(i) for i in ces_g.index],\n",
    "              orientation = 'h')\n",
    "\n",
    "app1.layout = html.Div([\n",
    "    html.H1(\"CCES Data Dashboard\"),\n",
    "    html.H2(\"Data about the elections of 2020\",\n",
    "            style = {'padding': 10}),\n",
    "    html.Div([dcc.Graph(id='hist-symbt', figure = fig1),\n",
    "              dcc.Graph(id='eval-count', figure = fig2)\n",
    "             ])\n",
    "])\n",
    "\n",
    "\n",
    "if __name__ == '__main__':\n",
    "    app1.run_server(debug=True)"
   ]
  },
  {
   "cell_type": "code",
   "execution_count": 6,
   "id": "dd5f7da2-1d52-4511-9e1b-5e2a5a2e10d8",
   "metadata": {},
   "outputs": [
    {
     "data": {
      "text/html": [
       "\n",
       "        <iframe\n",
       "            width=\"100%\"\n",
       "            height=\"650\"\n",
       "            src=\"http://127.0.0.1:8050/\"\n",
       "            frameborder=\"0\"\n",
       "            allowfullscreen\n",
       "            \n",
       "        ></iframe>\n",
       "        "
      ],
      "text/plain": [
       "<IPython.lib.display.IFrame at 0x2430f136180>"
      ]
     },
     "metadata": {},
     "output_type": "display_data"
    }
   ],
   "source": [
    "app2 = dash.Dash(__name__)\n",
    "\n",
    "fig1 = px.histogram(ces, x = 'Symb_Threat')\n",
    "\n",
    "ces_g = ces.groupby('Evaluation')['caseid'].count()\n",
    "fig2 = px.bar(x = ces_g, y = [str(i) for i in ces_g.index],\n",
    "              orientation = 'h')\n",
    "\n",
    "app2.layout = html.Div([\n",
    "    html.H1(\"CCES Data Dashboard\"),\n",
    "    html.H2(\"Data about the elections of 2020\",\n",
    "            style = {'padding': 10}),\n",
    "    html.Div([\n",
    "    html.Div([dcc.Graph(id='hist-symbt', figure = fig1)]),\n",
    "    html.Div([dcc.Graph(id='eval-count', figure = fig2)],\n",
    "                       style = {'flex': 1})\n",
    "             ], style={'display': 'flex', 'flexDirection': 'row'})\n",
    "])\n",
    "\n",
    "if __name__ == '__main__':\n",
    "    app2.run_server(debug=True)"
   ]
  }
 ],
 "metadata": {
  "kernelspec": {
   "display_name": "Python 3 (ipykernel)",
   "language": "python",
   "name": "python3"
  },
  "language_info": {
   "codemirror_mode": {
    "name": "ipython",
    "version": 3
   },
   "file_extension": ".py",
   "mimetype": "text/x-python",
   "name": "python",
   "nbconvert_exporter": "python",
   "pygments_lexer": "ipython3",
   "version": "3.12.4"
  }
 },
 "nbformat": 4,
 "nbformat_minor": 5
}
