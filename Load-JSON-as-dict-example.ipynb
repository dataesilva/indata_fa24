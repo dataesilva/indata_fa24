{
 "cells": [
  {
   "cell_type": "code",
   "execution_count": 1,
   "id": "e5a71270",
   "metadata": {},
   "outputs": [],
   "source": [
    "import json"
   ]
  },
  {
   "cell_type": "code",
   "execution_count": 2,
   "id": "fd4386b4",
   "metadata": {},
   "outputs": [],
   "source": [
    "with open('chessbuds_messages.json') as j:\n",
    "    chess_buds = json.load(j)"
   ]
  },
  {
   "cell_type": "markdown",
   "id": "575ecd6e",
   "metadata": {},
   "source": [
    "I've cleared the output from the following line, but it should show the resulting dictionary with the data we are interested in working with."
   ]
  },
  {
   "cell_type": "code",
   "execution_count": null,
   "id": "f2af545e",
   "metadata": {},
   "outputs": [],
   "source": [
    "chess_buds"
   ]
  }
 ],
 "metadata": {
  "kernelspec": {
   "display_name": "Python 3",
   "language": "python",
   "name": "python3"
  },
  "language_info": {
   "codemirror_mode": {
    "name": "ipython",
    "version": 3
   },
   "file_extension": ".py",
   "mimetype": "text/x-python",
   "name": "python",
   "nbconvert_exporter": "python",
   "pygments_lexer": "ipython3",
   "version": "3.6.13"
  }
 },
 "nbformat": 4,
 "nbformat_minor": 5
}
