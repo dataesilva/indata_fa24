{
 "cells": [
  {
   "cell_type": "markdown",
   "id": "8662b091-60c0-476d-b9ec-4bd64fab500f",
   "metadata": {},
   "source": [
    "# Systems Check\n",
    "## David Silva\n",
    "## 8/20/2024"
   ]
  },
  {
   "cell_type": "code",
   "execution_count": 1,
   "id": "1114a307-2ac6-4b27-a055-0e0c35b55998",
   "metadata": {},
   "outputs": [],
   "source": [
    "x = 3"
   ]
  },
  {
   "cell_type": "code",
   "execution_count": 2,
   "id": "fbb5e1b9-233d-44bb-ac7d-9f47c4b67d0b",
   "metadata": {},
   "outputs": [
    {
     "data": {
      "text/plain": [
       "3"
      ]
     },
     "execution_count": 2,
     "metadata": {},
     "output_type": "execute_result"
    }
   ],
   "source": [
    "x"
   ]
  },
  {
   "cell_type": "code",
   "execution_count": 3,
   "id": "85f11ff1-ab32-497c-8116-16208c69b91b",
   "metadata": {},
   "outputs": [
    {
     "data": {
      "text/plain": [
       "[2, 3, 4, 5]"
      ]
     },
     "execution_count": 3,
     "metadata": {},
     "output_type": "execute_result"
    }
   ],
   "source": [
    "my_list = [2,3,4,5]\n",
    "my_list"
   ]
  },
  {
   "cell_type": "code",
   "execution_count": 4,
   "id": "718f0f5d-613c-4ee5-b5f2-3506ab789910",
   "metadata": {},
   "outputs": [],
   "source": [
    "my_list = ['now', 'see', 'this']"
   ]
  },
  {
   "cell_type": "code",
   "execution_count": 5,
   "id": "07ac6b3e-3917-4f3b-bbba-a4450058ff72",
   "metadata": {},
   "outputs": [
    {
     "data": {
      "text/plain": [
       "['now', 'see', 'this']"
      ]
     },
     "execution_count": 5,
     "metadata": {},
     "output_type": "execute_result"
    }
   ],
   "source": [
    "my_list"
   ]
  },
  {
   "cell_type": "code",
   "execution_count": 6,
   "id": "cb5023d1-3b43-4a45-ab28-e836cab478a3",
   "metadata": {},
   "outputs": [
    {
     "data": {
      "text/plain": [
       "'now'"
      ]
     },
     "execution_count": 6,
     "metadata": {},
     "output_type": "execute_result"
    }
   ],
   "source": [
    "my_list[0]"
   ]
  },
  {
   "cell_type": "code",
   "execution_count": 7,
   "id": "53428bea-ffa3-4afe-bd91-9332625560d6",
   "metadata": {},
   "outputs": [],
   "source": [
    "my_name = 'David'"
   ]
  },
  {
   "cell_type": "code",
   "execution_count": 8,
   "id": "52f899f7-71b1-45b9-be7a-8ddf76c2e5e5",
   "metadata": {},
   "outputs": [],
   "source": [
    "def display_name(x):\n",
    "    print(x)"
   ]
  },
  {
   "cell_type": "code",
   "execution_count": 9,
   "id": "06dd0f6e-61c7-46a3-9d62-561aded17775",
   "metadata": {},
   "outputs": [
    {
     "name": "stdout",
     "output_type": "stream",
     "text": [
      "David\n"
     ]
    }
   ],
   "source": [
    "display_name(my_name)"
   ]
  },
  {
   "cell_type": "code",
   "execution_count": 10,
   "id": "d5b989d3-01f2-4041-ad5e-6ad63f35bede",
   "metadata": {},
   "outputs": [],
   "source": [
    "def change_name(x):\n",
    "    new_name = x + 'new'\n",
    "    return new_name"
   ]
  },
  {
   "cell_type": "code",
   "execution_count": 11,
   "id": "9ce56806-6512-4b6a-9145-03577799f723",
   "metadata": {},
   "outputs": [
    {
     "data": {
      "text/plain": [
       "'Davidnew'"
      ]
     },
     "execution_count": 11,
     "metadata": {},
     "output_type": "execute_result"
    }
   ],
   "source": [
    "changed_name = change_name('David')\n",
    "changed_name"
   ]
  }
 ],
 "metadata": {
  "kernelspec": {
   "display_name": "Python 3 (ipykernel)",
   "language": "python",
   "name": "python3"
  },
  "language_info": {
   "codemirror_mode": {
    "name": "ipython",
    "version": 3
   },
   "file_extension": ".py",
   "mimetype": "text/x-python",
   "name": "python",
   "nbconvert_exporter": "python",
   "pygments_lexer": "ipython3",
   "version": "3.12.4"
  }
 },
 "nbformat": 4,
 "nbformat_minor": 5
}
