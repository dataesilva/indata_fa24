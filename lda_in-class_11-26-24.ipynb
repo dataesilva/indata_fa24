{
 "cells": [
  {
   "cell_type": "code",
   "execution_count": 1,
   "id": "bf98adcb-2334-4b12-a87c-91b0fc92bed1",
   "metadata": {},
   "outputs": [],
   "source": [
    "import pandas as pd\n",
    "import gensim\n",
    "import nltk\n",
    "import spacy"
   ]
  },
  {
   "cell_type": "code",
   "execution_count": 2,
   "id": "8daf7d62-f16e-4a83-8773-e616275415bd",
   "metadata": {},
   "outputs": [],
   "source": [
    "oly = pd.read_csv('Olympics-Twitter.csv', encoding = 'utf-8')\n",
    "# oly.head()"
   ]
  },
  {
   "cell_type": "code",
   "execution_count": 3,
   "id": "4719e594-e582-400a-9e9d-3cda100741e8",
   "metadata": {},
   "outputs": [
    {
     "data": {
      "text/plain": [
       "(19714, 41)"
      ]
     },
     "execution_count": 3,
     "metadata": {},
     "output_type": "execute_result"
    }
   ],
   "source": [
    "oly.shape"
   ]
  },
  {
   "cell_type": "code",
   "execution_count": 4,
   "id": "34c4f9a0-55d6-4f06-bae4-8f670d6b0791",
   "metadata": {},
   "outputs": [
    {
     "name": "stderr",
     "output_type": "stream",
     "text": [
      "[nltk_data] Downloading package wordnet to\n",
      "[nltk_data]     C:\\Users\\dsilva2\\AppData\\Roaming\\nltk_data...\n",
      "[nltk_data]   Package wordnet is already up-to-date!\n",
      "[nltk_data] Downloading package stopwords to\n",
      "[nltk_data]     C:\\Users\\dsilva2\\AppData\\Roaming\\nltk_data...\n",
      "[nltk_data]   Package stopwords is already up-to-date!\n"
     ]
    },
    {
     "data": {
      "text/plain": [
       "True"
      ]
     },
     "execution_count": 4,
     "metadata": {},
     "output_type": "execute_result"
    }
   ],
   "source": [
    "nltk.download('wordnet')\n",
    "nltk.download('stopwords')"
   ]
  },
  {
   "cell_type": "code",
   "execution_count": 5,
   "id": "554ea35b-3b35-4264-a368-db7e98065ca4",
   "metadata": {},
   "outputs": [
    {
     "data": {
      "text/plain": [
       "\"@TeamUSA Literally all of the 2012 Olympics for women's artistic gymnastics\""
      ]
     },
     "execution_count": 5,
     "metadata": {},
     "output_type": "execute_result"
    }
   ],
   "source": [
    "sometext = oly['Full Text'].iloc[0]\n",
    "sometext"
   ]
  },
  {
   "cell_type": "code",
   "execution_count": 6,
   "id": "ce7707f1-f05e-4498-8f46-3f0bb820839b",
   "metadata": {},
   "outputs": [
    {
     "data": {
      "text/plain": [
       "\"@teamusa literally all of the 2012 olympics for women's artistic gymnastics\""
      ]
     },
     "execution_count": 6,
     "metadata": {},
     "output_type": "execute_result"
    }
   ],
   "source": [
    "sometext.lower()"
   ]
  },
  {
   "cell_type": "code",
   "execution_count": 7,
   "id": "73c9f098-a8d6-4522-9638-85eb6f4738aa",
   "metadata": {},
   "outputs": [
    {
     "data": {
      "text/plain": [
       "\"@TEAMUSA LITERALLY ALL OF THE 2012 OLYMPICS FOR WOMEN'S ARTISTIC GYMNASTICS\""
      ]
     },
     "execution_count": 7,
     "metadata": {},
     "output_type": "execute_result"
    }
   ],
   "source": [
    "sometext.upper()"
   ]
  },
  {
   "cell_type": "code",
   "execution_count": 8,
   "id": "b19d0c07-bb74-4614-9d72-422aaef2f5ce",
   "metadata": {},
   "outputs": [
    {
     "data": {
      "text/plain": [
       "\"@Teamusa Literally All Of The 2012 Olympics For Women'S Artistic Gymnastics\""
      ]
     },
     "execution_count": 8,
     "metadata": {},
     "output_type": "execute_result"
    }
   ],
   "source": [
    "sometext.title()"
   ]
  },
  {
   "cell_type": "code",
   "execution_count": 9,
   "id": "c12c7dac-22fd-46bc-87a8-9dd3a7b2e515",
   "metadata": {},
   "outputs": [
    {
     "data": {
      "text/plain": [
       "['@TeamUSA',\n",
       " 'Literally',\n",
       " 'all',\n",
       " 'of',\n",
       " 'the',\n",
       " '2012',\n",
       " 'Olympics',\n",
       " 'for',\n",
       " \"women's\",\n",
       " 'artistic',\n",
       " 'gymnastics']"
      ]
     },
     "execution_count": 9,
     "metadata": {},
     "output_type": "execute_result"
    }
   ],
   "source": [
    "sometext.split()"
   ]
  },
  {
   "cell_type": "code",
   "execution_count": 10,
   "id": "5616d303-247d-4478-87a4-e3476468ce28",
   "metadata": {},
   "outputs": [
    {
     "data": {
      "text/plain": [
       "\"@TeamUSA Literally all of the 2012 Olympics for women's artistic gymnastics\""
      ]
     },
     "execution_count": 10,
     "metadata": {},
     "output_type": "execute_result"
    }
   ],
   "source": [
    "sometext.strip()"
   ]
  },
  {
   "cell_type": "code",
   "execution_count": 11,
   "id": "6190e791-5fbd-4482-a83a-eb2e5af82c53",
   "metadata": {},
   "outputs": [
    {
     "name": "stdout",
     "output_type": "stream",
     "text": [
      "\n",
      "\n",
      "\n",
      "this thing\n"
     ]
    }
   ],
   "source": [
    "test = \"\\n\\n\\nthis thing\"\n",
    "print(test)"
   ]
  },
  {
   "cell_type": "code",
   "execution_count": 12,
   "id": "a31ed05b-f528-4836-b72c-984aeaa030a7",
   "metadata": {},
   "outputs": [
    {
     "data": {
      "text/plain": [
       "'this thing'"
      ]
     },
     "execution_count": 12,
     "metadata": {},
     "output_type": "execute_result"
    }
   ],
   "source": [
    "test.strip()"
   ]
  },
  {
   "cell_type": "code",
   "execution_count": 13,
   "id": "56bc6fde-8571-480c-9ec6-a0bc5c50c758",
   "metadata": {},
   "outputs": [
    {
     "name": "stdout",
     "output_type": "stream",
     "text": [
      "Collecting en-core-web-sm==3.7.1\n",
      "  Downloading https://github.com/explosion/spacy-models/releases/download/en_core_web_sm-3.7.1/en_core_web_sm-3.7.1-py3-none-any.whl (12.8 MB)\n",
      "     ---------------------------------------- 0.0/12.8 MB ? eta -:--:--\n",
      "     --------- ------------------------------ 2.9/12.8 MB 13.9 MB/s eta 0:00:01\n",
      "     ------------------ --------------------- 5.8/12.8 MB 14.1 MB/s eta 0:00:01\n",
      "     --------------------------- ------------ 8.9/12.8 MB 14.6 MB/s eta 0:00:01\n",
      "     ----------------------------------- --- 11.8/12.8 MB 14.2 MB/s eta 0:00:01\n",
      "     --------------------------------------- 12.8/12.8 MB 13.4 MB/s eta 0:00:00\n",
      "Requirement already satisfied: spacy<3.8.0,>=3.7.2 in c:\\users\\dsilva2\\anaconda3\\envs\\indata_fa24\\lib\\site-packages (from en-core-web-sm==3.7.1) (3.7.2)\n",
      "Requirement already satisfied: spacy-legacy<3.1.0,>=3.0.11 in c:\\users\\dsilva2\\anaconda3\\envs\\indata_fa24\\lib\\site-packages (from spacy<3.8.0,>=3.7.2->en-core-web-sm==3.7.1) (3.0.12)\n",
      "Requirement already satisfied: spacy-loggers<2.0.0,>=1.0.0 in c:\\users\\dsilva2\\anaconda3\\envs\\indata_fa24\\lib\\site-packages (from spacy<3.8.0,>=3.7.2->en-core-web-sm==3.7.1) (1.0.4)\n",
      "Requirement already satisfied: murmurhash<1.1.0,>=0.28.0 in c:\\users\\dsilva2\\anaconda3\\envs\\indata_fa24\\lib\\site-packages (from spacy<3.8.0,>=3.7.2->en-core-web-sm==3.7.1) (1.0.7)\n",
      "Requirement already satisfied: cymem<2.1.0,>=2.0.2 in c:\\users\\dsilva2\\anaconda3\\envs\\indata_fa24\\lib\\site-packages (from spacy<3.8.0,>=3.7.2->en-core-web-sm==3.7.1) (2.0.6)\n",
      "Requirement already satisfied: preshed<3.1.0,>=3.0.2 in c:\\users\\dsilva2\\anaconda3\\envs\\indata_fa24\\lib\\site-packages (from spacy<3.8.0,>=3.7.2->en-core-web-sm==3.7.1) (3.0.6)\n",
      "Requirement already satisfied: thinc<8.3.0,>=8.1.8 in c:\\users\\dsilva2\\anaconda3\\envs\\indata_fa24\\lib\\site-packages (from spacy<3.8.0,>=3.7.2->en-core-web-sm==3.7.1) (8.2.2)\n",
      "Requirement already satisfied: wasabi<1.2.0,>=0.9.1 in c:\\users\\dsilva2\\anaconda3\\envs\\indata_fa24\\lib\\site-packages (from spacy<3.8.0,>=3.7.2->en-core-web-sm==3.7.1) (0.9.1)\n",
      "Requirement already satisfied: srsly<3.0.0,>=2.4.3 in c:\\users\\dsilva2\\anaconda3\\envs\\indata_fa24\\lib\\site-packages (from spacy<3.8.0,>=3.7.2->en-core-web-sm==3.7.1) (2.4.8)\n",
      "Requirement already satisfied: catalogue<2.1.0,>=2.0.6 in c:\\users\\dsilva2\\anaconda3\\envs\\indata_fa24\\lib\\site-packages (from spacy<3.8.0,>=3.7.2->en-core-web-sm==3.7.1) (2.0.10)\n",
      "Requirement already satisfied: weasel<0.4.0,>=0.1.0 in c:\\users\\dsilva2\\anaconda3\\envs\\indata_fa24\\lib\\site-packages (from spacy<3.8.0,>=3.7.2->en-core-web-sm==3.7.1) (0.3.4)\n",
      "Requirement already satisfied: typer<0.10.0,>=0.3.0 in c:\\users\\dsilva2\\anaconda3\\envs\\indata_fa24\\lib\\site-packages (from spacy<3.8.0,>=3.7.2->en-core-web-sm==3.7.1) (0.9.0)\n",
      "Requirement already satisfied: smart-open<7.0.0,>=5.2.1 in c:\\users\\dsilva2\\anaconda3\\envs\\indata_fa24\\lib\\site-packages (from spacy<3.8.0,>=3.7.2->en-core-web-sm==3.7.1) (5.2.1)\n",
      "Requirement already satisfied: tqdm<5.0.0,>=4.38.0 in c:\\users\\dsilva2\\anaconda3\\envs\\indata_fa24\\lib\\site-packages (from spacy<3.8.0,>=3.7.2->en-core-web-sm==3.7.1) (4.66.5)\n",
      "Requirement already satisfied: requests<3.0.0,>=2.13.0 in c:\\users\\dsilva2\\anaconda3\\envs\\indata_fa24\\lib\\site-packages (from spacy<3.8.0,>=3.7.2->en-core-web-sm==3.7.1) (2.32.3)\n",
      "Requirement already satisfied: pydantic!=1.8,!=1.8.1,<3.0.0,>=1.7.4 in c:\\users\\dsilva2\\anaconda3\\envs\\indata_fa24\\lib\\site-packages (from spacy<3.8.0,>=3.7.2->en-core-web-sm==3.7.1) (2.8.2)\n",
      "Requirement already satisfied: jinja2 in c:\\users\\dsilva2\\anaconda3\\envs\\indata_fa24\\lib\\site-packages (from spacy<3.8.0,>=3.7.2->en-core-web-sm==3.7.1) (3.1.4)\n",
      "Requirement already satisfied: setuptools in c:\\users\\dsilva2\\anaconda3\\envs\\indata_fa24\\lib\\site-packages (from spacy<3.8.0,>=3.7.2->en-core-web-sm==3.7.1) (72.1.0)\n",
      "Requirement already satisfied: packaging>=20.0 in c:\\users\\dsilva2\\anaconda3\\envs\\indata_fa24\\lib\\site-packages (from spacy<3.8.0,>=3.7.2->en-core-web-sm==3.7.1) (24.1)\n",
      "Requirement already satisfied: langcodes<4.0.0,>=3.2.0 in c:\\users\\dsilva2\\anaconda3\\envs\\indata_fa24\\lib\\site-packages (from spacy<3.8.0,>=3.7.2->en-core-web-sm==3.7.1) (3.3.0)\n",
      "Requirement already satisfied: numpy>=1.19.0 in c:\\users\\dsilva2\\anaconda3\\envs\\indata_fa24\\lib\\site-packages (from spacy<3.8.0,>=3.7.2->en-core-web-sm==3.7.1) (1.26.4)\n",
      "Requirement already satisfied: annotated-types>=0.4.0 in c:\\users\\dsilva2\\anaconda3\\envs\\indata_fa24\\lib\\site-packages (from pydantic!=1.8,!=1.8.1,<3.0.0,>=1.7.4->spacy<3.8.0,>=3.7.2->en-core-web-sm==3.7.1) (0.6.0)\n",
      "Requirement already satisfied: pydantic-core==2.20.1 in c:\\users\\dsilva2\\anaconda3\\envs\\indata_fa24\\lib\\site-packages (from pydantic!=1.8,!=1.8.1,<3.0.0,>=1.7.4->spacy<3.8.0,>=3.7.2->en-core-web-sm==3.7.1) (2.20.1)\n",
      "Requirement already satisfied: typing-extensions>=4.6.1 in c:\\users\\dsilva2\\anaconda3\\envs\\indata_fa24\\lib\\site-packages (from pydantic!=1.8,!=1.8.1,<3.0.0,>=1.7.4->spacy<3.8.0,>=3.7.2->en-core-web-sm==3.7.1) (4.11.0)\n",
      "Requirement already satisfied: charset-normalizer<4,>=2 in c:\\users\\dsilva2\\anaconda3\\envs\\indata_fa24\\lib\\site-packages (from requests<3.0.0,>=2.13.0->spacy<3.8.0,>=3.7.2->en-core-web-sm==3.7.1) (3.3.2)\n",
      "Requirement already satisfied: idna<4,>=2.5 in c:\\users\\dsilva2\\anaconda3\\envs\\indata_fa24\\lib\\site-packages (from requests<3.0.0,>=2.13.0->spacy<3.8.0,>=3.7.2->en-core-web-sm==3.7.1) (3.7)\n",
      "Requirement already satisfied: urllib3<3,>=1.21.1 in c:\\users\\dsilva2\\anaconda3\\envs\\indata_fa24\\lib\\site-packages (from requests<3.0.0,>=2.13.0->spacy<3.8.0,>=3.7.2->en-core-web-sm==3.7.1) (2.2.2)\n",
      "Requirement already satisfied: certifi>=2017.4.17 in c:\\users\\dsilva2\\anaconda3\\envs\\indata_fa24\\lib\\site-packages (from requests<3.0.0,>=2.13.0->spacy<3.8.0,>=3.7.2->en-core-web-sm==3.7.1) (2024.7.4)\n",
      "Requirement already satisfied: blis<0.8.0,>=0.7.8 in c:\\users\\dsilva2\\anaconda3\\envs\\indata_fa24\\lib\\site-packages (from thinc<8.3.0,>=8.1.8->spacy<3.8.0,>=3.7.2->en-core-web-sm==3.7.1) (0.7.11)\n",
      "Requirement already satisfied: confection<1.0.0,>=0.0.1 in c:\\users\\dsilva2\\anaconda3\\envs\\indata_fa24\\lib\\site-packages (from thinc<8.3.0,>=8.1.8->spacy<3.8.0,>=3.7.2->en-core-web-sm==3.7.1) (0.1.4)\n",
      "Requirement already satisfied: colorama in c:\\users\\dsilva2\\anaconda3\\envs\\indata_fa24\\lib\\site-packages (from tqdm<5.0.0,>=4.38.0->spacy<3.8.0,>=3.7.2->en-core-web-sm==3.7.1) (0.4.6)\n",
      "Requirement already satisfied: click<9.0.0,>=7.1.1 in c:\\users\\dsilva2\\anaconda3\\envs\\indata_fa24\\lib\\site-packages (from typer<0.10.0,>=0.3.0->spacy<3.8.0,>=3.7.2->en-core-web-sm==3.7.1) (8.1.7)\n",
      "Requirement already satisfied: cloudpathlib<0.17.0,>=0.7.0 in c:\\users\\dsilva2\\anaconda3\\envs\\indata_fa24\\lib\\site-packages (from weasel<0.4.0,>=0.1.0->spacy<3.8.0,>=3.7.2->en-core-web-sm==3.7.1) (0.16.0)\n",
      "Requirement already satisfied: MarkupSafe>=2.0 in c:\\users\\dsilva2\\anaconda3\\envs\\indata_fa24\\lib\\site-packages (from jinja2->spacy<3.8.0,>=3.7.2->en-core-web-sm==3.7.1) (2.1.3)\n",
      "[+] Download and installation successful\n",
      "You can now load the package via spacy.load('en_core_web_sm')\n"
     ]
    }
   ],
   "source": [
    "! python -m spacy download en_core_web_sm"
   ]
  },
  {
   "cell_type": "code",
   "execution_count": 14,
   "id": "98f69a92-9e77-48f4-a2a4-52a8229c97ba",
   "metadata": {},
   "outputs": [
    {
     "data": {
      "text/plain": [
       "'carrot'"
      ]
     },
     "execution_count": 14,
     "metadata": {},
     "output_type": "execute_result"
    }
   ],
   "source": [
    "othertext = ['my', 'dogs', 'ate', 'carrots', 'yesterday']\n",
    "\n",
    "nltk.stem.wordnet.WordNetLemmatizer().lemmatize(othertext[3])"
   ]
  },
  {
   "cell_type": "code",
   "execution_count": 15,
   "id": "6403cff8-9fee-4a82-a516-b0cb95adf43a",
   "metadata": {},
   "outputs": [
    {
     "data": {
      "text/plain": [
       "spacy.tokens.doc.Doc"
      ]
     },
     "execution_count": 15,
     "metadata": {},
     "output_type": "execute_result"
    }
   ],
   "source": [
    "nlp = spacy.load(\"en_core_web_sm\")\n",
    "doc = nlp(sometext)\n",
    "type(doc)"
   ]
  },
  {
   "cell_type": "code",
   "execution_count": 16,
   "id": "0ae25139-5bbc-4e77-81a9-bea8a72afcc7",
   "metadata": {},
   "outputs": [
    {
     "name": "stdout",
     "output_type": "stream",
     "text": [
      "@TeamUSA PROPN ROOT\n",
      "Literally ADV advmod\n",
      "all PRON npadvmod\n",
      "of ADP prep\n",
      "the DET det\n",
      "2012 NUM nummod\n",
      "Olympics PROPN pobj\n",
      "for ADP prep\n",
      "women NOUN poss\n",
      "'s PART case\n",
      "artistic ADJ amod\n",
      "gymnastics NOUN pobj\n"
     ]
    }
   ],
   "source": [
    "for token in doc:\n",
    "    print(token.text, token.pos_, token.dep_)"
   ]
  },
  {
   "cell_type": "code",
   "execution_count": 17,
   "id": "dae51966-3b99-413d-a5dd-1d885c6fade7",
   "metadata": {},
   "outputs": [
    {
     "name": "stdout",
     "output_type": "stream",
     "text": [
      "False False True dogs ogs\n"
     ]
    }
   ],
   "source": [
    "print(nlp('dogs')[0].orth_.isspace(),\n",
    "      nlp('dogs')[0].like_url,\n",
    "      nlp('dogs')[0].orth_.startswith('d'),\n",
    "      nlp('dogs')[0].lower_,\n",
    "      nlp('dogs')[0].orth_[1:]\n",
    ")"
   ]
  },
  {
   "cell_type": "code",
   "execution_count": 18,
   "id": "ad526648-fddc-4eb4-adaf-318aa90cc71f",
   "metadata": {},
   "outputs": [
    {
     "data": {
      "text/plain": [
       "False"
      ]
     },
     "execution_count": 18,
     "metadata": {},
     "output_type": "execute_result"
    }
   ],
   "source": [
    "nlp('my dogs')[1].like_url"
   ]
  },
  {
   "cell_type": "code",
   "execution_count": 19,
   "id": "aa36aae3-773e-474f-ab21-9190140b946c",
   "metadata": {},
   "outputs": [],
   "source": [
    "def tokenize(text):\n",
    "    lda_tokens = []\n",
    "    tokens = nlp(text)\n",
    "    for token in tokens:\n",
    "        if token.orth_.isspace():\n",
    "            continue\n",
    "        elif token.like_url:\n",
    "            lda_tokens.append('URL')\n",
    "        elif token.orth_.startswith('@'):\n",
    "            lda_tokens.append(token.orth_[1:])\n",
    "        else:\n",
    "            lda_tokens.append(token.lower_)\n",
    "    return lda_tokens"
   ]
  },
  {
   "cell_type": "code",
   "execution_count": 20,
   "id": "a8c4e0f9-6c2f-4b63-9ea9-c3155a2fe538",
   "metadata": {},
   "outputs": [],
   "source": [
    "en_stop = nltk.corpus.stopwords.words('english')\n",
    "get_lemma = nltk.stem.wordnet.WordNetLemmatizer().lemmatize"
   ]
  },
  {
   "cell_type": "code",
   "execution_count": 21,
   "id": "145d8b41-a307-45fb-b4d5-8341b9e0fdcc",
   "metadata": {},
   "outputs": [],
   "source": [
    "def prepare_text(text):\n",
    "    tokens = tokenize(text)\n",
    "    tokens = [token for token in tokens if len(token) > 2] # manipulate this\n",
    "    tokens = [token for token in tokens if token not in en_stop]\n",
    "    tokens = [get_lemma(token) for token in tokens]\n",
    "    return tokens"
   ]
  },
  {
   "cell_type": "code",
   "execution_count": 22,
   "id": "cedd630b-04fe-49df-95f4-2c387b5f201c",
   "metadata": {},
   "outputs": [],
   "source": [
    "twt_data = []\n",
    "for text in oly['Full Text'][:100]:\n",
    "    twt_data.append(prepare_text(text))"
   ]
  },
  {
   "cell_type": "code",
   "execution_count": 23,
   "id": "fd3835de-eccb-47e9-a04d-34ce5573af27",
   "metadata": {},
   "outputs": [
    {
     "name": "stdout",
     "output_type": "stream",
     "text": [
      "['TeamUSA', 'literally', '2012', 'olympics', 'woman', 'artistic', 'gymnastics']\n",
      "['LanderVBALL', 'reesebatesvb', 'vbcoch', 'USAVBeach', 'usavolleyball', 'MadiReed42', 'nell_copeland', 'omg', 'going', 'try', 'need', 'find', 'another', 'ball']\n",
      "['blunt', 'started', 'woman', 'basketball', 'country', 'gave', 'notoriety', 'deserved', '-@s10bird', 'close', 'womenshistorymonth', 'celebrating', 'team', 'started', 'dynasty', '1996', 'woman', 'usabasketball', 'URL']\n",
      "['DetroitHandball', 'TeamHandball', 'USATH', 'USARugby', 'still', 'love']\n",
      "['beat', 'record', 'new', 'one', 'USAVBeach', 'usavolleyball', 'FIVBBeach', 'FIVBVolleyball', 'OleMissVB', 'NEVBProbs', 'FAUVolleyball', 'FGCU_VB', 'CreightonVB', 'StanfordWVB', 'KUVolleyball', 'URL']\n"
     ]
    }
   ],
   "source": [
    "for i in twt_data[0:5]:\n",
    "    print(i)"
   ]
  },
  {
   "cell_type": "code",
   "execution_count": 24,
   "id": "8ebc0b0f-9060-45a7-b8d6-e3a0936d5905",
   "metadata": {},
   "outputs": [
    {
     "name": "stdout",
     "output_type": "stream",
     "text": [
      "@TeamUSA Literally all of the 2012 Olympics for women's artistic gymnastics\n",
      "@LanderVBALL @reesebatesvb @vbcoch @USAVBeach @usavolleyball @MadiReed42 @nell_copeland Omg I am going to try this! Now I just need to find another ball🤔\n",
      "\"To be blunt, it started women's basketball in this country. It gave it the notoriety it deserved.\" -@s10bird We close #WomensHistoryMonth by celebrating the team that started a DYNASTY: The 1996 women of @usabasketball. https://t.co/TI5wWOtjtP\n",
      "@DetroitHandball @TeamHandball @USATH @USARugby I still love u\n",
      "I beat my own record! The new one is 52!!! @USAVBeach @usavolleyball @FIVBBeach @FIVBVolleyball @OleMissVB @NEVBProbs @FAUVolleyball @FGCU_VB @CreightonVB @StanfordWVB @KUVolleyball https://t.co/rXutjelgxs\n"
     ]
    }
   ],
   "source": [
    "for i in oly['Full Text'][0:5]:\n",
    "    print(i)"
   ]
  },
  {
   "cell_type": "code",
   "execution_count": 25,
   "id": "7ed544e5-c19d-45a3-8ac2-adb4bc674734",
   "metadata": {},
   "outputs": [],
   "source": [
    "dictionary = gensim.corpora.Dictionary(twt_data)\n",
    "corpus = [dictionary.doc2bow(text) for text in twt_data]"
   ]
  },
  {
   "cell_type": "code",
   "execution_count": 26,
   "id": "5cbe0137-03c4-4e49-a26a-10fd8cf152a9",
   "metadata": {},
   "outputs": [
    {
     "name": "stdout",
     "output_type": "stream",
     "text": [
      "[(0, 1), (1, 1), (2, 1), (3, 1), (4, 1), (5, 1), (6, 1)]\n",
      "[(7, 1), (8, 1), (9, 1), (10, 1), (11, 1), (12, 1), (13, 1), (14, 1), (15, 1), (16, 1), (17, 1), (18, 1), (19, 1), (20, 1)]\n",
      "[(6, 2), (21, 1), (22, 1), (23, 1), (24, 1), (25, 1), (26, 1), (27, 1), (28, 1), (29, 1), (30, 1), (31, 1), (32, 1), (33, 2), (34, 1), (35, 1), (36, 1)]\n",
      "[(37, 1), (38, 1), (39, 1), (40, 1), (41, 1), (42, 1)]\n",
      "[(9, 1), (19, 1), (23, 1), (43, 1), (44, 1), (45, 1), (46, 1), (47, 1), (48, 1), (49, 1), (50, 1), (51, 1), (52, 1), (53, 1), (54, 1), (55, 1)]\n",
      "[(37, 1), (38, 1), (39, 1), (40, 1), (41, 1), (56, 1), (57, 1), (58, 1), (59, 1), (60, 1), (61, 1), (62, 1), (63, 2), (64, 1), (65, 1), (66, 1), (67, 1), (68, 1), (69, 1), (70, 1), (71, 1)]\n",
      "[(54, 1), (65, 1), (72, 1), (73, 1), (74, 1), (75, 1), (76, 1), (77, 1), (78, 1), (79, 1), (80, 1), (81, 1), (82, 1), (83, 1), (84, 1), (85, 1)]\n",
      "[(1, 1), (23, 1), (86, 1), (87, 1)]\n",
      "[(88, 1), (89, 1), (90, 2), (91, 1)]\n",
      "[(1, 1), (92, 1), (93, 1), (94, 1), (95, 1), (96, 1)]\n"
     ]
    }
   ],
   "source": [
    "for i in corpus[0:10]:\n",
    "    print(i)"
   ]
  },
  {
   "cell_type": "code",
   "execution_count": 27,
   "id": "3313c4e9-9d1c-45ed-9352-1eb0a3892c43",
   "metadata": {},
   "outputs": [
    {
     "data": {
      "text/plain": [
       "[(0,\n",
       "  '0.020*\"URL\" + 0.020*\"lol\" + 0.013*\"kid\" + 0.013*\"team\" + 0.007*\"Tokyo2020\"'),\n",
       " (1,\n",
       "  '0.070*\"USWNT\" + 0.036*\"alexmorgan13\" + 0.036*\"samanthabarry\" + 0.036*\"glamourmag\" + 0.027*\"FIFAcom\"'),\n",
       " (2,\n",
       "  '0.023*\"APSWrestle\" + 0.016*\"URL\" + 0.016*\"USAWrestling\" + 0.016*\"calUSAwrestling\" + 0.016*\"DollamurWrestle\"'),\n",
       " (3,\n",
       "  '0.033*\"TeamUSA\" + 0.018*\"URL\" + 0.017*\"...\" + 0.017*\"Tokyo2020\" + 0.015*\"FIFAWWC\"'),\n",
       " (4,\n",
       "  '0.021*\"good\" + 0.014*\"USAWrestling\" + 0.014*\"TeamUSA\" + 0.014*\"wait\" + 0.014*\"woman\"'),\n",
       " (5,\n",
       "  '0.017*\"USMNT\" + 0.017*\"URL\" + 0.017*\"RobStoneONFOX\" + 0.017*\"day\" + 0.017*\"USWNT\"'),\n",
       " (6,\n",
       "  '0.029*\"TeamUSA\" + 0.024*\"URL\" + 0.012*\"USWNT\" + 0.012*\"wsl\" + 0.012*\"look\"'),\n",
       " (7,\n",
       "  '0.031*\"URL\" + 0.023*\"USARugby\" + 0.023*\"USATH\" + 0.023*\"TeamHandball\" + 0.019*\"TeamUSA\"'),\n",
       " (8,\n",
       "  '0.107*\"TeamUSA\" + 0.043*\"miracle\" + 0.036*\"1980\" + 0.036*\"ice\" + 0.029*\"usa\"'),\n",
       " (9,\n",
       "  '0.054*\"TeamUSA\" + 0.022*\"jesse\" + 0.022*\"owen\" + 0.022*\"azi\" + 0.022*\"TeamShuster\"')]"
      ]
     },
     "execution_count": 27,
     "metadata": {},
     "output_type": "execute_result"
    }
   ],
   "source": [
    "ldamodel = gensim.models.ldamodel.LdaModel(corpus,\n",
    "                                           num_topics = 10,\n",
    "                                           id2word=dictionary,\n",
    "                                           passes=15)\n",
    "ldamodel.print_topics(num_words = 5)"
   ]
  },
  {
   "cell_type": "code",
   "execution_count": 28,
   "id": "7ba66de5-1d2c-480f-b220-723aafe1ffb3",
   "metadata": {},
   "outputs": [
    {
     "data": {
      "text/plain": [
       "[(0, 0.9470554)]"
      ]
     },
     "execution_count": 28,
     "metadata": {},
     "output_type": "execute_result"
    }
   ],
   "source": [
    "ldamodel.get_document_topics(corpus[4])"
   ]
  },
  {
   "cell_type": "code",
   "execution_count": 29,
   "id": "bd51065a-5b9c-46e0-8ece-798b1e3279a2",
   "metadata": {},
   "outputs": [
    {
     "data": {
      "text/plain": [
       "'I beat my own record! The new one is 52!!! @USAVBeach @usavolleyball @FIVBBeach @FIVBVolleyball @OleMissVB @NEVBProbs @FAUVolleyball @FGCU_VB @CreightonVB @StanfordWVB @KUVolleyball https://t.co/rXutjelgxs'"
      ]
     },
     "execution_count": 29,
     "metadata": {},
     "output_type": "execute_result"
    }
   ],
   "source": [
    "oly['Full Text'][4]"
   ]
  },
  {
   "cell_type": "code",
   "execution_count": 30,
   "id": "61690854-731a-46b4-a78d-af4f34895df0",
   "metadata": {},
   "outputs": [
    {
     "data": {
      "text/plain": [
       "['beat',\n",
       " 'record',\n",
       " 'new',\n",
       " 'one',\n",
       " 'USAVBeach',\n",
       " 'usavolleyball',\n",
       " 'FIVBBeach',\n",
       " 'FIVBVolleyball',\n",
       " 'OleMissVB',\n",
       " 'NEVBProbs',\n",
       " 'FAUVolleyball',\n",
       " 'FGCU_VB',\n",
       " 'CreightonVB',\n",
       " 'StanfordWVB',\n",
       " 'KUVolleyball',\n",
       " 'URL']"
      ]
     },
     "execution_count": 30,
     "metadata": {},
     "output_type": "execute_result"
    }
   ],
   "source": [
    "twt_data[4]"
   ]
  }
 ],
 "metadata": {
  "kernelspec": {
   "display_name": "Python 3 (ipykernel)",
   "language": "python",
   "name": "python3"
  },
  "language_info": {
   "codemirror_mode": {
    "name": "ipython",
    "version": 3
   },
   "file_extension": ".py",
   "mimetype": "text/x-python",
   "name": "python",
   "nbconvert_exporter": "python",
   "pygments_lexer": "ipython3",
   "version": "3.12.4"
  }
 },
 "nbformat": 4,
 "nbformat_minor": 5
}
